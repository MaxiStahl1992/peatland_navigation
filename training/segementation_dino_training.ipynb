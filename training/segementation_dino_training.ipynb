{
 "cells": [
  {
   "cell_type": "markdown",
   "id": "44e1f262",
   "metadata": {},
   "source": [
    "# DinoV2-based Semantic Segmentation\n",
    "\n",
    "This notebook implements semantic segmentation using Facebook's DinoV2 vision transformer as the backbone with a custom decoder head. This approach leverages the strong visual features learned by DinoV2 through self-supervised training on large-scale datasets.\n",
    "\n",
    "Key features:\n",
    "- DinoV2-base backbone (frozen)\n",
    "- Custom decoder head for segmentation\n",
    "- Multi-scale feature processing\n",
    "- Five-class segmentation output\n",
    "\n",
    "The model maintains DinoV2's strong feature extraction while adapting it for the specific task of peatland segmentation."
   ]
  },
  {
   "cell_type": "markdown",
   "id": "d683e8c2",
   "metadata": {},
   "source": [
    "## 1. Imports"
   ]
  },
  {
   "cell_type": "code",
   "execution_count": null,
   "id": "52936768",
   "metadata": {},
   "outputs": [
    {
     "name": "stderr",
     "output_type": "stream",
     "text": [
      "/Users/stahlma/.pyenv/versions/peatland_navigation/lib/python3.11/site-packages/tqdm/auto.py:21: TqdmWarning: IProgress not found. Please update jupyter and ipywidgets. See https://ipywidgets.readthedocs.io/en/stable/user_install.html\n",
      "  from .autonotebook import tqdm as notebook_tqdm\n"
     ]
    }
   ],
   "source": [
    "# Standard library imports\n",
    "import os\n",
    "from pathlib import Path\n",
    "from datetime import datetime\n",
    "\n",
    "# Deep learning and numerical computing\n",
    "import torch\n",
    "import torch.nn as nn\n",
    "import torch.optim as optim\n",
    "from torch.utils.data import Dataset, DataLoader\n",
    "\n",
    "# Image processing and data manipulation\n",
    "from PIL import Image\n",
    "import numpy as np\n",
    "import pandas as pd\n",
    "import matplotlib.pyplot as plt\n",
    "\n",
    "# Progress tracking\n",
    "from tqdm import tqdm\n",
    "\n",
    "# Vision transformer and transformations\n",
    "from transformers import Dinov2Model, AutoImageProcessor\n",
    "import albumentations as A\n",
    "from albumentations.pytorch import ToTensorV2"
   ]
  },
  {
   "cell_type": "markdown",
   "id": "fba40c84",
   "metadata": {},
   "source": [
    "## 2. DinoV2 Dataset Class and Transforms"
   ]
  },
  {
   "cell_type": "markdown",
   "id": "c809c536",
   "metadata": {},
   "source": [
    "The dataset implementation is specialized for DinoV2's requirements:\n",
    "\n",
    "1. **Image Processing Pipeline**:\n",
    "   - Images are loaded and converted to RGB\n",
    "   - Initial transformations (resize, augmentations) are applied\n",
    "   - DinoV2's image processor handles final normalization\n",
    "\n",
    "2. **Mask Handling**:\n",
    "   - Masks are loaded as-is\n",
    "   - Transformations maintain alignment with images\n",
    "   - Converted to long tensors for loss computation\n",
    "\n",
    "3. **DinoV2 Specifics**:\n",
    "   - Input size fixed at 224x224 pixels\n",
    "   - Uses DinoV2's custom processor\n",
    "   - Maintains compatibility with transformer architecture"
   ]
  },
  {
   "cell_type": "code",
   "execution_count": null,
   "id": "f1d0b9b7",
   "metadata": {},
   "outputs": [
    {
     "name": "stderr",
     "output_type": "stream",
     "text": [
      "Using a slow image processor as `use_fast` is unset and a slow processor was saved with this model. `use_fast=True` will be the default behavior in v4.52, even if the model was saved with a slow processor. This will result in minor differences in outputs. You'll still be able to use a slow processor with `use_fast=False`.\n"
     ]
    }
   ],
   "source": [
    "class PeatlandDinoDataset(Dataset):\n",
    "    \"\"\"Custom PyTorch Dataset for DinoV2-based semantic segmentation.\n",
    "    \n",
    "    This dataset handles the specific requirements of the DinoV2 vision transformer,\n",
    "    including proper image preprocessing and tensor formatting.\n",
    "    \n",
    "    Args:\n",
    "        images_dir (str or Path): Directory containing the input images\n",
    "        masks_dir (str or Path): Directory containing the segmentation masks\n",
    "        image_processor: DinoV2's image processor for normalization\n",
    "        transform (callable, optional): Optional transform to be applied before DinoV2 processing\n",
    "    \"\"\"\n",
    "    def __init__(self, images_dir, masks_dir, image_processor, transform=None):\n",
    "        self.images_dir = Path(images_dir)\n",
    "        self.masks_dir = Path(masks_dir)\n",
    "        self.image_processor = image_processor\n",
    "        self.transform = transform\n",
    "        self.image_filenames = sorted(os.listdir(self.images_dir))\n",
    "\n",
    "    def __len__(self):\n",
    "        \"\"\"Returns the total number of image-mask pairs in the dataset.\"\"\"\n",
    "        return len(self.image_filenames)\n",
    "\n",
    "    def __getitem__(self, idx):\n",
    "        \"\"\"Retrieves and processes an image-mask pair.\n",
    "        \n",
    "        Args:\n",
    "            idx (int): Index of the image-mask pair to retrieve\n",
    "            \n",
    "        Returns:\n",
    "            tuple: (pixel_values, mask) where pixel_values is processed by DinoV2's\n",
    "                  processor and mask is a long tensor\n",
    "        \"\"\"\n",
    "        img_name = self.image_filenames[idx]\n",
    "        img_path = self.images_dir / img_name\n",
    "        mask_path = self.masks_dir / img_name\n",
    "        \n",
    "        # Load image in PIL format for DinoV2 processor\n",
    "        image = Image.open(img_path).convert(\"RGB\")\n",
    "        mask = np.array(Image.open(mask_path))\n",
    "\n",
    "        # Apply augmentations before DinoV2 processing\n",
    "        if self.transform:\n",
    "            # Convert PIL to numpy for albumentations\n",
    "            augmented = self.transform(image=np.array(image), mask=mask)\n",
    "            image = Image.fromarray(augmented['image'])\n",
    "            mask = augmented['mask']\n",
    "        \n",
    "        # Process image using DinoV2's processor\n",
    "        pixel_values = self.image_processor(image, return_tensors=\"pt\").pixel_values.squeeze(0)\n",
    "        \n",
    "        # Convert mask to appropriate tensor type\n",
    "        mask = torch.from_numpy(mask).long()\n",
    "        return pixel_values, mask\n",
    "\n",
    "# Initialize DinoV2 processor and define image size\n",
    "processor = AutoImageProcessor.from_pretrained(\"facebook/dinov2-base\")\n",
    "DINO_IMAGE_SIZE = 224\n",
    "\n",
    "# Training transformations with augmentation\n",
    "dino_train_transform = A.Compose([\n",
    "    A.Resize(height=DINO_IMAGE_SIZE, width=DINO_IMAGE_SIZE),\n",
    "    A.HorizontalFlip(p=0.5),  # 50% chance of horizontal flip\n",
    "])\n",
    "\n",
    "# Validation transformations (no augmentation)\n",
    "dino_val_transform = A.Compose([\n",
    "    A.Resize(height=DINO_IMAGE_SIZE, width=DINO_IMAGE_SIZE),\n",
    "])"
   ]
  },
  {
   "cell_type": "markdown",
   "id": "ecc0258c",
   "metadata": {},
   "source": [
    "## 3. DinoV2 Segmentation Model"
   ]
  },
  {
   "cell_type": "markdown",
   "id": "dcb617e8",
   "metadata": {},
   "source": [
    "The DinoV2-based segmentation model architecture consists of:\n",
    "\n",
    "1. **Backbone**:\n",
    "   - DinoV2-base pretrained model\n",
    "   - Frozen weights to preserve learned features\n",
    "   - Patch-based transformer architecture\n",
    "\n",
    "2. **Segmentation Head**:\n",
    "   - Custom convolutional decoder\n",
    "   - Progressive upsampling layers\n",
    "   - Channel reduction for memory efficiency\n",
    "\n",
    "3. **Feature Processing**:\n",
    "   - Patch token extraction and reshaping\n",
    "   - Spatial feature map reconstruction\n",
    "   - Final logits upsampling to input size\n",
    "\n",
    "4. **Design Choices**:\n",
    "   - Skip CLS token for dense prediction\n",
    "   - Bilinear upsampling for smooth outputs\n",
    "   - Multi-stage feature refinement"
   ]
  },
  {
   "cell_type": "code",
   "execution_count": null,
   "id": "600253f3",
   "metadata": {},
   "outputs": [],
   "source": [
    "class DinoV2ForSemanticSegmentation(nn.Module):\n",
    "    \"\"\"DinoV2-based semantic segmentation model.\n",
    "    \n",
    "    Combines a frozen DinoV2 backbone with a trainable segmentation head\n",
    "    to perform dense pixel-wise classification.\n",
    "    \n",
    "    Args:\n",
    "        num_classes (int): Number of segmentation classes (default: 5)\n",
    "    \"\"\"\n",
    "    def __init__(self, num_classes=5):\n",
    "        super(DinoV2ForSemanticSegmentation, self).__init__()\n",
    "        # Initialize pretrained DinoV2 backbone\n",
    "        self.dinov2 = Dinov2Model.from_pretrained(\"facebook/dinov2-base\")\n",
    "        \n",
    "        # Freeze backbone weights\n",
    "        for param in self.dinov2.parameters():\n",
    "            param.requires_grad = False\n",
    "            \n",
    "        # Segmentation head: progressive upsampling with channel reduction\n",
    "        self.head = nn.Sequential(\n",
    "            # First stage: 768 -> 256 channels\n",
    "            nn.Conv2d(768, 256, kernel_size=3, padding=1), \n",
    "            nn.ReLU(),\n",
    "            nn.Upsample(scale_factor=2, mode='bilinear', align_corners=False),\n",
    "            \n",
    "            # Second stage: 256 -> 128 channels\n",
    "            nn.Conv2d(256, 128, kernel_size=3, padding=1), \n",
    "            nn.ReLU(),\n",
    "            nn.Upsample(scale_factor=2, mode='bilinear', align_corners=False),\n",
    "            \n",
    "            # Third stage: 128 -> 64 channels\n",
    "            nn.Conv2d(128, 64, kernel_size=3, padding=1), \n",
    "            nn.ReLU(),\n",
    "            nn.Upsample(scale_factor=2, mode='bilinear', align_corners=False),\n",
    "            \n",
    "            # Final layer: project to class logits\n",
    "            nn.Conv2d(64, num_classes, kernel_size=1)\n",
    "        )\n",
    "\n",
    "    def forward(self, pixel_values):\n",
    "        \"\"\"Forward pass through the model.\n",
    "        \n",
    "        Args:\n",
    "            pixel_values: Input tensor processed by DinoV2's processor\n",
    "            \n",
    "        Returns:\n",
    "            torch.Tensor: Segmentation logits of shape (B, C, H, W)\n",
    "        \"\"\"\n",
    "        # Get transformer features\n",
    "        outputs = self.dinov2(pixel_values, output_hidden_states=True)\n",
    "        last_hidden_state = outputs.last_hidden_state\n",
    "        \n",
    "        # Process patch tokens (exclude CLS token)\n",
    "        patch_tokens = last_hidden_state[:, 1:, :]\n",
    "        batch_size, seq_len, num_channels = patch_tokens.shape\n",
    "        \n",
    "        # Reshape into 2D feature map\n",
    "        height = width = int(seq_len**0.5)\n",
    "        feature_map = patch_tokens.permute(0, 2, 1).contiguous().reshape(\n",
    "            batch_size, num_channels, height, width)\n",
    "        \n",
    "        # Apply segmentation head\n",
    "        logits = self.head(feature_map)\n",
    "        \n",
    "        # Upsample to input resolution\n",
    "        final_logits = nn.functional.interpolate(\n",
    "            logits, \n",
    "            size=(DINO_IMAGE_SIZE, DINO_IMAGE_SIZE), \n",
    "            mode='bilinear', \n",
    "            align_corners=False\n",
    "        )\n",
    "        return final_logits"
   ]
  },
  {
   "cell_type": "markdown",
   "id": "a8a41f8d",
   "metadata": {},
   "source": [
    "## 4. Configuration and Data Loading"
   ]
  },
  {
   "cell_type": "markdown",
   "id": "1b1da2d2",
   "metadata": {},
   "source": [
    "Training configuration and data setup:\n",
    "\n",
    "1. **Training Parameters**:\n",
    "   - Learning rate: 1e-3 (higher due to frozen backbone)\n",
    "   - Batch size: 4 samples\n",
    "   - Number of epochs: 10\n",
    "   - Hardware-adaptive device selection\n",
    "\n",
    "2. **Run Management**:\n",
    "   - Unique timestamp-based run names\n",
    "   - Organized metrics directory structure\n",
    "   - Automatic output path creation\n",
    "\n",
    "3. **Data Organization**:\n",
    "   - Structured directory hierarchy\n",
    "   - Clear train/val split\n",
    "   - Consistent naming conventions"
   ]
  },
  {
   "cell_type": "code",
   "execution_count": null,
   "id": "4c33d730",
   "metadata": {},
   "outputs": [
    {
     "name": "stdout",
     "output_type": "stream",
     "text": [
      "Using device: mps\n",
      "Metrics for this run will be saved in: metrics/dinov2_2025-08-03_17-48-54\n"
     ]
    }
   ],
   "source": [
    "# Training hyperparameters\n",
    "LEARNING_RATE = 1e-3  # Higher LR since only training the head\n",
    "BATCH_SIZE = 4\n",
    "NUM_EPOCHS = 10\n",
    "\n",
    "# Hardware configuration\n",
    "if torch.cuda.is_available():\n",
    "    DEVICE = \"cuda\"\n",
    "elif torch.backends.mps.is_available():\n",
    "    DEVICE = \"mps\"\n",
    "else:\n",
    "    DEVICE = \"cpu\"\n",
    "\n",
    "# Set up run identification and metrics storage\n",
    "run_name = f\"dinov2_{datetime.now().strftime('%Y-%m-%d_%H-%M-%S')}\"\n",
    "metrics_dir = Path(\"metrics\") / run_name\n",
    "metrics_dir.mkdir(parents=True, exist_ok=True)\n",
    "\n",
    "print(f\"Using device: {DEVICE}\")\n",
    "print(f\"Metrics for this run will be saved in: {metrics_dir}\")\n",
    "\n",
    "# Data directory configuration\n",
    "BASE_PROCESSED_DIR = Path(\"../data/processed/segmentation\")\n",
    "TRAIN_IMG_DIR = BASE_PROCESSED_DIR / \"train\" / \"images\"\n",
    "TRAIN_MASK_DIR = BASE_PROCESSED_DIR / \"train\" / \"masks\"\n",
    "VAL_IMG_DIR = BASE_PROCESSED_DIR / \"val\" / \"images\"\n",
    "VAL_MASK_DIR = BASE_PROCESSED_DIR / \"val\" / \"masks\"\n",
    "\n",
    "# Initialize datasets with appropriate transforms\n",
    "train_dataset = PeatlandDinoDataset(TRAIN_IMG_DIR, TRAIN_MASK_DIR, processor, dino_train_transform)\n",
    "val_dataset = PeatlandDinoDataset(VAL_IMG_DIR, VAL_MASK_DIR, processor, dino_val_transform)\n",
    "\n",
    "# Create data loaders for batched processing\n",
    "train_loader = DataLoader(train_dataset, batch_size=BATCH_SIZE, shuffle=True, num_workers=0)\n",
    "val_loader = DataLoader(val_dataset, batch_size=BATCH_SIZE, shuffle=False, num_workers=0)"
   ]
  },
  {
   "cell_type": "markdown",
   "id": "f55fcefe",
   "metadata": {},
   "source": [
    "## 5. Training Loop"
   ]
  },
  {
   "cell_type": "markdown",
   "id": "ac3fc84f",
   "metadata": {},
   "source": [
    "The training implementation includes:\n",
    "\n",
    "1. **Model Setup**:\n",
    "   - DinoV2 model instantiation\n",
    "   - Cross entropy loss for multi-class segmentation\n",
    "   - AdamW optimizer with weight decay\n",
    "   - Learning rate scheduling\n",
    "\n",
    "2. **Training Process**:\n",
    "   - Epoch-based training loop\n",
    "   - Batch-wise processing\n",
    "   - Gradient computation and updates\n",
    "   - Loss tracking and logging\n",
    "\n",
    "3. **Validation**:\n",
    "   - Regular model evaluation\n",
    "   - Pixel-wise accuracy calculation\n",
    "   - Loss monitoring for early stopping\n",
    "   - Best model checkpointing\n",
    "\n",
    "4. **Progress Tracking**:\n",
    "   - Per-epoch statistics\n",
    "   - Training/validation metrics logging\n",
    "   - Comprehensive CSV output"
   ]
  },
  {
   "cell_type": "code",
   "execution_count": null,
   "id": "e52e89df",
   "metadata": {},
   "outputs": [
    {
     "name": "stdout",
     "output_type": "stream",
     "text": [
      "\n",
      "--- Epoch 1/10 ---\n"
     ]
    },
    {
     "name": "stderr",
     "output_type": "stream",
     "text": [
      "Training: 100%|██████████| 998/998 [05:10<00:00,  3.21it/s]\n",
      "Validating: 100%|██████████| 51/51 [00:15<00:00,  3.29it/s]\n"
     ]
    },
    {
     "name": "stdout",
     "output_type": "stream",
     "text": [
      "Average Training Loss: 0.5401\n",
      "Average Validation Loss: 0.4033\n",
      "Validation Pixel Accuracy: 84.40%\n",
      "Validation loss improved. Saving best model to metrics/dinov2_2025-08-03_17-48-54/best_model.pth\n",
      "\n",
      "--- Epoch 2/10 ---\n"
     ]
    },
    {
     "name": "stderr",
     "output_type": "stream",
     "text": [
      "Training: 100%|██████████| 998/998 [05:05<00:00,  3.26it/s]\n",
      "Validating: 100%|██████████| 51/51 [00:15<00:00,  3.35it/s]\n"
     ]
    },
    {
     "name": "stdout",
     "output_type": "stream",
     "text": [
      "Average Training Loss: 0.4270\n",
      "Average Validation Loss: 0.4714\n",
      "Validation Pixel Accuracy: 81.19%\n",
      "Validation loss did not improve for 1 epoch(s).\n",
      "\n",
      "--- Epoch 3/10 ---\n"
     ]
    },
    {
     "name": "stderr",
     "output_type": "stream",
     "text": [
      "Training: 100%|██████████| 998/998 [05:12<00:00,  3.19it/s]\n",
      "Validating: 100%|██████████| 51/51 [00:15<00:00,  3.22it/s]\n"
     ]
    },
    {
     "name": "stdout",
     "output_type": "stream",
     "text": [
      "Average Training Loss: 0.3901\n",
      "Average Validation Loss: 0.3678\n",
      "Validation Pixel Accuracy: 86.10%\n",
      "Validation loss improved. Saving best model to metrics/dinov2_2025-08-03_17-48-54/best_model.pth\n",
      "\n",
      "--- Epoch 4/10 ---\n"
     ]
    },
    {
     "name": "stderr",
     "output_type": "stream",
     "text": [
      "Training: 100%|██████████| 998/998 [05:10<00:00,  3.22it/s]\n",
      "Validating: 100%|██████████| 51/51 [00:14<00:00,  3.52it/s]\n"
     ]
    },
    {
     "name": "stdout",
     "output_type": "stream",
     "text": [
      "Average Training Loss: 0.3707\n",
      "Average Validation Loss: 0.3602\n",
      "Validation Pixel Accuracy: 85.35%\n",
      "Validation loss improved. Saving best model to metrics/dinov2_2025-08-03_17-48-54/best_model.pth\n",
      "\n",
      "--- Epoch 5/10 ---\n"
     ]
    },
    {
     "name": "stderr",
     "output_type": "stream",
     "text": [
      "Training: 100%|██████████| 998/998 [04:54<00:00,  3.38it/s]\n",
      "Validating: 100%|██████████| 51/51 [00:14<00:00,  3.54it/s]\n"
     ]
    },
    {
     "name": "stdout",
     "output_type": "stream",
     "text": [
      "Average Training Loss: 0.3552\n",
      "Average Validation Loss: 0.3608\n",
      "Validation Pixel Accuracy: 86.45%\n",
      "Validation loss did not improve for 1 epoch(s).\n",
      "\n",
      "--- Epoch 6/10 ---\n"
     ]
    },
    {
     "name": "stderr",
     "output_type": "stream",
     "text": [
      "Training: 100%|██████████| 998/998 [04:52<00:00,  3.41it/s]\n",
      "Validating: 100%|██████████| 51/51 [00:14<00:00,  3.52it/s]\n"
     ]
    },
    {
     "name": "stdout",
     "output_type": "stream",
     "text": [
      "Average Training Loss: 0.3403\n",
      "Average Validation Loss: 0.3628\n",
      "Validation Pixel Accuracy: 85.98%\n",
      "Validation loss did not improve for 2 epoch(s).\n",
      "\n",
      "--- Epoch 7/10 ---\n"
     ]
    },
    {
     "name": "stderr",
     "output_type": "stream",
     "text": [
      "Training: 100%|██████████| 998/998 [05:00<00:00,  3.32it/s]\n",
      "Validating: 100%|██████████| 51/51 [00:16<00:00,  3.07it/s]\n"
     ]
    },
    {
     "name": "stdout",
     "output_type": "stream",
     "text": [
      "Average Training Loss: 0.3305\n",
      "Average Validation Loss: 0.3495\n",
      "Validation Pixel Accuracy: 86.25%\n",
      "Validation loss improved. Saving best model to metrics/dinov2_2025-08-03_17-48-54/best_model.pth\n",
      "\n",
      "--- Epoch 8/10 ---\n"
     ]
    },
    {
     "name": "stderr",
     "output_type": "stream",
     "text": [
      "Training: 100%|██████████| 998/998 [05:06<00:00,  3.26it/s]\n",
      "Validating: 100%|██████████| 51/51 [00:15<00:00,  3.39it/s]\n"
     ]
    },
    {
     "name": "stdout",
     "output_type": "stream",
     "text": [
      "Average Training Loss: 0.3208\n",
      "Average Validation Loss: 0.3769\n",
      "Validation Pixel Accuracy: 85.38%\n",
      "Validation loss did not improve for 1 epoch(s).\n",
      "\n",
      "--- Epoch 9/10 ---\n"
     ]
    },
    {
     "name": "stderr",
     "output_type": "stream",
     "text": [
      "Training: 100%|██████████| 998/998 [05:02<00:00,  3.30it/s]\n",
      "Validating: 100%|██████████| 51/51 [00:15<00:00,  3.35it/s]\n"
     ]
    },
    {
     "name": "stdout",
     "output_type": "stream",
     "text": [
      "Average Training Loss: 0.3134\n",
      "Average Validation Loss: 0.3252\n",
      "Validation Pixel Accuracy: 87.32%\n",
      "Validation loss improved. Saving best model to metrics/dinov2_2025-08-03_17-48-54/best_model.pth\n",
      "\n",
      "--- Epoch 10/10 ---\n"
     ]
    },
    {
     "name": "stderr",
     "output_type": "stream",
     "text": [
      "Training: 100%|██████████| 998/998 [04:54<00:00,  3.39it/s]\n",
      "Validating: 100%|██████████| 51/51 [00:14<00:00,  3.49it/s]\n"
     ]
    },
    {
     "name": "stdout",
     "output_type": "stream",
     "text": [
      "Average Training Loss: 0.3099\n",
      "Average Validation Loss: 0.3456\n",
      "Validation Pixel Accuracy: 87.37%\n",
      "Validation loss did not improve for 1 epoch(s).\n",
      "\n",
      "Training complete. Model saved to metrics/dinov2_2025-08-03_17-48-54/peatland_dinov2_model.pth\n",
      "Training log saved to metrics/dinov2_2025-08-03_17-48-54/training_log.csv\n"
     ]
    }
   ],
   "source": [
    "# Initialize model, loss function, and optimizer\n",
    "model = DinoV2ForSemanticSegmentation(num_classes=5).to(DEVICE)\n",
    "criterion = nn.CrossEntropyLoss()\n",
    "optimizer = optim.AdamW(model.head.parameters(), lr=LEARNING_RATE, weight_decay=1e-5)\n",
    "scheduler = optim.lr_scheduler.ReduceLROnPlateau(optimizer, 'min', patience=2, factor=0.1)\n",
    "\n",
    "# Initialize training tracking\n",
    "training_log = []\n",
    "best_val_loss = float('inf')\n",
    "epochs_no_improve = 0\n",
    "patience = 3  # Early stopping after 3 epochs without improvement\n",
    "\n",
    "# Training loop\n",
    "for epoch in range(NUM_EPOCHS):\n",
    "    print(f\"\\n--- Epoch {epoch+1}/{NUM_EPOCHS} ---\")\n",
    "    \n",
    "    # Training phase\n",
    "    model.train()\n",
    "    train_loss = 0.0\n",
    "    for images, masks in tqdm(train_loader, desc=\"Training\"):\n",
    "        # Move data to device\n",
    "        images, masks = images.to(DEVICE), masks.to(DEVICE)\n",
    "        \n",
    "        # Forward pass and loss calculation\n",
    "        outputs = model(images)\n",
    "        loss = criterion(outputs, masks)\n",
    "        \n",
    "        # Backward pass and optimization\n",
    "        optimizer.zero_grad()\n",
    "        loss.backward()\n",
    "        optimizer.step()\n",
    "        \n",
    "        train_loss += loss.item()\n",
    "        \n",
    "    # Validation phase\n",
    "    model.eval()\n",
    "    val_loss, val_correct_pixels, val_total_pixels = 0.0, 0, 0\n",
    "    with torch.no_grad():\n",
    "        for images, masks in tqdm(val_loader, desc=\"Validating\"):\n",
    "            # Move data to device\n",
    "            images, masks = images.to(DEVICE), masks.to(DEVICE)\n",
    "            \n",
    "            # Forward pass\n",
    "            outputs = model(images)\n",
    "            loss = criterion(outputs, masks)\n",
    "            \n",
    "            # Calculate metrics\n",
    "            val_loss += loss.item()\n",
    "            preds = torch.argmax(outputs, dim=1)\n",
    "            val_correct_pixels += (preds == masks).sum().item()\n",
    "            val_total_pixels += torch.numel(masks)\n",
    "            \n",
    "    # Calculate epoch statistics\n",
    "    avg_train_loss = train_loss / len(train_loader)\n",
    "    avg_val_loss = val_loss / len(val_loader)\n",
    "    val_accuracy = (val_correct_pixels / val_total_pixels) * 100\n",
    "    \n",
    "    # Print epoch results\n",
    "    print(f\"Average Training Loss: {avg_train_loss:.4f}\")\n",
    "    print(f\"Average Validation Loss: {avg_val_loss:.4f}\")\n",
    "    print(f\"Validation Pixel Accuracy: {val_accuracy:.2f}%\")\n",
    "    \n",
    "    # Learning rate scheduling\n",
    "    scheduler.step(avg_val_loss)\n",
    "\n",
    "    # Log metrics\n",
    "    training_log.append({\n",
    "        'epoch': epoch + 1,\n",
    "        'train_loss': avg_train_loss,\n",
    "        'val_loss': avg_val_loss,\n",
    "        'val_accuracy': val_accuracy\n",
    "    })\n",
    "\n",
    "    # Model checkpointing\n",
    "    if avg_val_loss < best_val_loss:\n",
    "        best_val_loss = avg_val_loss\n",
    "        epochs_no_improve = 0\n",
    "        torch.save(model.state_dict(), metrics_dir / \"best_model.pth\")\n",
    "        print(f\"Validation loss improved. Saving best model to {metrics_dir / 'best_model.pth'}\")\n",
    "    else:\n",
    "        epochs_no_improve += 1\n",
    "        print(f\"Validation loss did not improve for {epochs_no_improve} epoch(s).\")\n",
    "\n",
    "    # Early stopping check\n",
    "    if epochs_no_improve >= patience:\n",
    "        print(f\"Early stopping triggered after {epoch + 1} epochs.\")\n",
    "        break\n",
    "\n",
    "# Save final model and metrics\n",
    "model_save_path = metrics_dir / \"peatland_dinov2_model.pth\"\n",
    "torch.save(model.state_dict(), model_save_path)\n",
    "print(f\"\\nTraining complete. Model saved to {model_save_path}\")\n",
    "\n",
    "# Save training history\n",
    "log_df = pd.DataFrame(training_log)\n",
    "log_df.to_csv(metrics_dir / \"training_log.csv\", index=False)\n",
    "print(f\"Training log saved to {metrics_dir / 'training_log.csv'}\")"
   ]
  }
 ],
 "metadata": {
  "kernelspec": {
   "display_name": "peatland_navigation",
   "language": "python",
   "name": "python3"
  },
  "language_info": {
   "codemirror_mode": {
    "name": "ipython",
    "version": 3
   },
   "file_extension": ".py",
   "mimetype": "text/x-python",
   "name": "python",
   "nbconvert_exporter": "python",
   "pygments_lexer": "ipython3",
   "version": "3.11.8"
  }
 },
 "nbformat": 4,
 "nbformat_minor": 5
}
