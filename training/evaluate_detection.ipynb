{
 "cells": [
  {
   "cell_type": "markdown",
   "id": "db93f2e1",
   "metadata": {},
   "source": [
    "## 1. Imports"
   ]
  },
  {
   "cell_type": "markdown",
   "id": "fdfb2f96",
   "metadata": {},
   "source": [
    "# YOLO Object Detection Evaluation\n",
    "\n",
    "This notebook performs systematic evaluation of the trained YOLO object detection model. It assesses:\n",
    "\n",
    "1. Detection Performance:\n",
    "   - Mean Average Precision (mAP)\n",
    "   - Multiple IoU thresholds\n",
    "   - Per-class metrics\n",
    "\n",
    "2. Testing Protocol:\n",
    "   - Dedicated test set evaluation\n",
    "   - Confidence analysis\n",
    "   - Automated metrics logging\n",
    "\n",
    "3. Results Analysis:\n",
    "   - Comprehensive metrics\n",
    "   - Performance visualization\n",
    "   - Detailed reporting"
   ]
  },
  {
   "cell_type": "code",
   "execution_count": null,
   "id": "bd64370d",
   "metadata": {},
   "outputs": [],
   "source": [
    "# Object detection framework\n",
    "from ultralytics import YOLO\n",
    "\n",
    "# File and path handling\n",
    "from pathlib import Path"
   ]
  },
  {
   "cell_type": "markdown",
   "id": "9746171c",
   "metadata": {},
   "source": [
    "## 2. Evaluation Configuration\n",
    "\n",
    "Setup the evaluation pipeline:\n",
    "\n",
    "1. Model Selection:\n",
    "   - Trained model path\n",
    "   - Best weights selection\n",
    "   - Path resolution\n",
    "\n",
    "2. Dataset Configuration:\n",
    "   - Test set definition\n",
    "   - Data YAML path\n",
    "   - Class mapping\n",
    "\n",
    "3. Output Organization:\n",
    "   - Results directory\n",
    "   - Metrics storage\n",
    "   - Plot generation"
   ]
  },
  {
   "cell_type": "code",
   "execution_count": null,
   "id": "a5570551",
   "metadata": {},
   "outputs": [
    {
     "name": "stdout",
     "output_type": "stream",
     "text": [
      "Loading model from: metrics/detection/peatland_detector_v12/weights/best.pt\n",
      "Using dataset configuration: ../data/processed/detection/data.yaml\n"
     ]
    }
   ],
   "source": [
    "# Model identification\n",
    "RUN_NAME = \"peatland_detector_v12\"     # Name of the training run\n",
    "PROJECT_DIR = \"metrics/detection\"       # Base metrics directory\n",
    "\n",
    "# Path configuration\n",
    "MODEL_PATH = Path(PROJECT_DIR) / RUN_NAME / \"weights/best.pt\"     # Best model weights\n",
    "DATA_YAML_PATH = Path(\"../data/processed/detection/data.yaml\")    # Dataset config\n",
    "\n",
    "# Display configuration\n",
    "print(f\"Loading model from: {MODEL_PATH}\")\n",
    "print(f\"Using dataset configuration: {DATA_YAML_PATH}\")"
   ]
  },
  {
   "cell_type": "markdown",
   "id": "f1fbeb2a",
   "metadata": {},
   "source": [
    "## 3. Model Loading\n",
    "\n",
    "Initialize YOLO model for evaluation:\n",
    "\n",
    "1. Model Loading:\n",
    "   - Trained weights\n",
    "   - Model architecture\n",
    "   - Configuration parameters\n",
    "\n",
    "2. Memory Management:\n",
    "   - Efficient loading\n",
    "   - Resource allocation\n",
    "   - Cache handling\n",
    "\n",
    "3. Inference Setup:\n",
    "   - Evaluation mode\n",
    "   - Batch processing\n",
    "   - Device optimization"
   ]
  },
  {
   "cell_type": "code",
   "execution_count": 9,
   "id": "f17638ce",
   "metadata": {},
   "outputs": [
    {
     "name": "stdout",
     "output_type": "stream",
     "text": [
      "Trained model loaded successfully.\n"
     ]
    }
   ],
   "source": [
    "model = YOLO(MODEL_PATH)\n",
    "\n",
    "print(\"Trained model loaded successfully.\")"
   ]
  },
  {
   "cell_type": "markdown",
   "id": "b8845c15",
   "metadata": {},
   "source": [
    "## 4. Run Evalutation"
   ]
  },
  {
   "cell_type": "code",
   "execution_count": 10,
   "id": "d1db137b",
   "metadata": {},
   "outputs": [
    {
     "name": "stdout",
     "output_type": "stream",
     "text": [
      "Ultralytics 8.3.173 🚀 Python-3.11.8 torch-2.7.1 CPU (Apple M2 Pro)\n",
      "YOLO11m summary (fused): 125 layers, 20,032,345 parameters, 0 gradients, 67.7 GFLOPs\n",
      "\u001b[34m\u001b[1mval: \u001b[0mFast image access ✅ (ping: 0.1±0.1 ms, read: 104.0±36.7 MB/s, size: 61.1 KB)\n"
     ]
    },
    {
     "name": "stderr",
     "output_type": "stream",
     "text": [
      "\u001b[34m\u001b[1mval: \u001b[0mScanning /Users/stahlma/Desktop/01_Studium/09_Vision_Project/peatland_navigation/data/processed/detection/labels/test... 611 images, 0 backgrounds, 0 corrupt: 100%|██████████| 611/611 [00:00<00:00, 989.67it/s] "
     ]
    },
    {
     "name": "stdout",
     "output_type": "stream",
     "text": [
      "\u001b[34m\u001b[1mval: \u001b[0m/Users/stahlma/Desktop/01_Studium/09_Vision_Project/peatland_navigation/data/processed/detection/images/test/cone_4_z8126b7d060d92d74599e0618_f103ee1115bfb3eed_d20170226_m022615_c001_v0001038_t0047_png.rf.13dfcca46af542f8aad3f98df957d441.jpg: 3 duplicate labels removed\n",
      "\u001b[34m\u001b[1mval: \u001b[0m/Users/stahlma/Desktop/01_Studium/09_Vision_Project/peatland_navigation/data/processed/detection/images/test/cone_4_z8126b7d060d92d74599e0618_f103ee1115bfb41ca_d20170226_m022825_c001_v0001038_t0047_png.rf.4ef757c8882ed5d85dee5a648f17ba1b.jpg: 2 duplicate labels removed\n",
      "\u001b[34m\u001b[1mval: \u001b[0m/Users/stahlma/Desktop/01_Studium/09_Vision_Project/peatland_navigation/data/processed/detection/images/test/cone_4_z8126b7d060d92d74599e0618_f103ee1115bfb64e9_d20170226_m025747_c001_v0001038_t0047_png.rf.e405f032c51fdd296c2ccb4a2e24c398.jpg: 2 duplicate labels removed\n",
      "\u001b[34m\u001b[1mval: \u001b[0m/Users/stahlma/Desktop/01_Studium/09_Vision_Project/peatland_navigation/data/processed/detection/images/test/cone_4_z8126b7d060d92d74599e0618_f103ee1115bfb8ad2_d20170226_m032729_c001_v0001038_t0047_png.rf.4bcc0a7875d2234169796dbfb974b901.jpg: 1 duplicate labels removed\n",
      "\u001b[34m\u001b[1mval: \u001b[0m/Users/stahlma/Desktop/01_Studium/09_Vision_Project/peatland_navigation/data/processed/detection/images/test/cone_4_z8126b7d060d92d74599e0618_f105bec8d6545f58d_d20170228_m024540_c001_v0001038_t0052_png.rf.766ac9ad774d027e5974505de5673ceb.jpg: 1 duplicate labels removed\n",
      "\u001b[34m\u001b[1mval: \u001b[0m/Users/stahlma/Desktop/01_Studium/09_Vision_Project/peatland_navigation/data/processed/detection/images/test/cone_4_z8126b7d060d92d74599e0618_f105bec8d6545fcd7_d20170228_m025125_c001_v0001038_t0052_png.rf.527004b199c5d62fafe3c073f6461a0d.jpg: 1 duplicate labels removed\n",
      "\u001b[34m\u001b[1mval: \u001b[0m/Users/stahlma/Desktop/01_Studium/09_Vision_Project/peatland_navigation/data/processed/detection/images/test/cone_4_z8126b7d060d92d74599e0618_f105bec8d65461b2a_d20170228_m031718_c001_v0001038_t0052_png.rf.b51d32e0fc328d7ffd96a044c92f9315.jpg: 2 duplicate labels removed\n",
      "\u001b[34m\u001b[1mval: \u001b[0m/Users/stahlma/Desktop/01_Studium/09_Vision_Project/peatland_navigation/data/processed/detection/images/test/cone_4_z8126b7d060d92d74599e0618_f109cae5016f21fd0_d20170225_m201447_c001_v0001038_t0018_png.rf.60f52f7fc5cfb1fed71a68f0e08c8b40.jpg: 3 duplicate labels removed\n",
      "\u001b[34m\u001b[1mval: \u001b[0m/Users/stahlma/Desktop/01_Studium/09_Vision_Project/peatland_navigation/data/processed/detection/images/test/cone_4_z8126b7d060d92d74599e0618_f110e5e48fac43430_d20170301_m021957_c001_v0001036_t0016_png.rf.6d89f4ce53444e35637291b9ab83b3ed.jpg: 4 duplicate labels removed\n",
      "\u001b[34m\u001b[1mval: \u001b[0m/Users/stahlma/Desktop/01_Studium/09_Vision_Project/peatland_navigation/data/processed/detection/images/test/cone_4_z8126b7d060d92d74599e0618_f110e5e48fac43998_d20170301_m023749_c001_v0001036_t0016_png.rf.92208b1d0b3911f570a0e67039e195d9.jpg: 1 duplicate labels removed\n",
      "\u001b[34m\u001b[1mval: \u001b[0m/Users/stahlma/Desktop/01_Studium/09_Vision_Project/peatland_navigation/data/processed/detection/images/test/cone_4_z8126b7d060d92d74599e0618_f110e5e48fac43e55_d20170301_m025612_c001_v0001036_t0016_png.rf.19c5431fdcea807f5b2261881d2db9f9.jpg: 2 duplicate labels removed\n",
      "\u001b[34m\u001b[1mval: \u001b[0m/Users/stahlma/Desktop/01_Studium/09_Vision_Project/peatland_navigation/data/processed/detection/images/test/cone_4_z8126b7d060d92d74599e0618_f110e5e48fac44341_d20170301_m031145_c001_v0001036_t0016_png.rf.0d22209fd55b2d11a2f9f692b8644acc.jpg: 1 duplicate labels removed\n",
      "\u001b[34m\u001b[1mval: \u001b[0m/Users/stahlma/Desktop/01_Studium/09_Vision_Project/peatland_navigation/data/processed/detection/images/test/cone_4_z8126b7d060d92d74599e0618_f110e5e48fac449d3_d20170301_m033401_c001_v0001036_t0016_png.rf.79985f115b6b6ef790618bbdaa811886.jpg: 1 duplicate labels removed\n",
      "\u001b[34m\u001b[1mval: \u001b[0m/Users/stahlma/Desktop/01_Studium/09_Vision_Project/peatland_navigation/data/processed/detection/images/test/cone_4_z8126b7d060d92d74599e0618_f110e5e48fac44b36_d20170301_m033920_c001_v0001036_t0016_png.rf.54b7839244986ebc1e1daca44a1db6d9.jpg: 1 duplicate labels removed\n",
      "\u001b[34m\u001b[1mval: \u001b[0mNew cache created: /Users/stahlma/Desktop/01_Studium/09_Vision_Project/peatland_navigation/data/processed/detection/labels/test.cache\n"
     ]
    },
    {
     "name": "stderr",
     "output_type": "stream",
     "text": [
      "\n",
      "                 Class     Images  Instances      Box(P          R      mAP50  mAP50-95): 100%|██████████| 39/39 [09:31<00:00, 14.66s/it]\n"
     ]
    },
    {
     "name": "stdout",
     "output_type": "stream",
     "text": [
      "                   all        611        707      0.935      0.916      0.964        0.7\n",
      "                 bench        307        311      0.865      0.939      0.965      0.711\n",
      "                  cone        166        256      0.956      0.929      0.979      0.704\n",
      "                  sign        138        140      0.984       0.88      0.947      0.686\n",
      "Speed: 1.3ms preprocess, 929.5ms inference, 0.0ms loss, 0.5ms postprocess per image\n",
      "Results saved to \u001b[1mruns/detect/peatland_detector_v12_test_evaluation\u001b[0m\n",
      "\n",
      "--- Evaluation Complete ---\n",
      "mAP50-95: 0.7004630530806742\n",
      "mAP50: 0.9636802041346447\n",
      "\n",
      "Detailed metrics and plots saved in 'metrics/detection/peatland_detector_v12_test_evaluation'\n"
     ]
    }
   ],
   "source": [
    "metrics = model.val(\n",
    "    data=str(DATA_YAML_PATH),\n",
    "    split='test', # Explicitly specify the test set\n",
    "    name=f'{RUN_NAME}_test_evaluation' # Custom name for the output folder\n",
    ")\n",
    "\n",
    "print(\"\\n--- Evaluation Complete ---\")\n",
    "# The metrics object contains a dictionary of all the results.\n",
    "# For example, to see the main mAP50-95 score:\n",
    "print(f\"mAP50-95: {metrics.box.map}\")\n",
    "print(f\"mAP50: {metrics.box.map50}\")\n",
    "print(f\"\\nDetailed metrics and plots saved in 'metrics/detection/{RUN_NAME}_test_evaluation'\")\n",
    "\n"
   ]
  }
 ],
 "metadata": {
  "kernelspec": {
   "display_name": "peatland_navigation",
   "language": "python",
   "name": "python3"
  },
  "language_info": {
   "codemirror_mode": {
    "name": "ipython",
    "version": 3
   },
   "file_extension": ".py",
   "mimetype": "text/x-python",
   "name": "python",
   "nbconvert_exporter": "python",
   "pygments_lexer": "ipython3",
   "version": "3.11.8"
  }
 },
 "nbformat": 4,
 "nbformat_minor": 5
}
