{
 "cells": [
  {
   "cell_type": "markdown",
   "id": "62507f3a",
   "metadata": {},
   "source": [
    "# Binary Path Segmentation Training\n",
    "\n",
    "This notebook implements binary semantic segmentation for peatland path detection using a U-Net architecture with a ResNet34 backbone. The model is trained to identify two classes:\n",
    "- Path (1)\n",
    "- Background (0)\n",
    "\n",
    "The binary approach simplifies the segmentation task and focuses specifically on path detection, which is crucial for navigation.\n",
    "\n",
    "## 1. Import Required Libraries"
   ]
  },
  {
   "cell_type": "code",
   "execution_count": null,
   "id": "0eae9cb7",
   "metadata": {},
   "outputs": [
    {
     "name": "stderr",
     "output_type": "stream",
     "text": [
      "/Users/stahlma/.pyenv/versions/peatland_navigation/lib/python3.11/site-packages/tqdm/auto.py:21: TqdmWarning: IProgress not found. Please update jupyter and ipywidgets. See https://ipywidgets.readthedocs.io/en/stable/user_install.html\n",
      "  from .autonotebook import tqdm as notebook_tqdm\n"
     ]
    }
   ],
   "source": [
    "# Standard library imports\n",
    "import os\n",
    "from pathlib import Path\n",
    "from datetime import datetime\n",
    "\n",
    "# Deep learning and numerical computing\n",
    "import torch\n",
    "import torch.nn as nn\n",
    "import torch.optim as optim\n",
    "from torch.utils.data import Dataset, DataLoader\n",
    "\n",
    "# Image processing and data manipulation\n",
    "from PIL import Image\n",
    "import numpy as np\n",
    "import pandas as pd\n",
    "\n",
    "# Progress tracking\n",
    "from tqdm import tqdm\n",
    "\n",
    "# Computer vision libraries\n",
    "import segmentation_models_pytorch as smp\n",
    "import albumentations as A\n",
    "from albumentations.pytorch import ToTensorV2"
   ]
  },
  {
   "cell_type": "markdown",
   "id": "dc0e7661",
   "metadata": {},
   "source": [
    "## 2. Dataset and Transformations\n",
    "\n",
    "Implementation of the dataset class and data augmentation pipeline:\n",
    "- Custom dataset for binary segmentation\n",
    "- Image resizing and normalization\n",
    "- Data augmentation strategies\n",
    "- Proper tensor conversion for PyTorch"
   ]
  },
  {
   "cell_type": "markdown",
   "id": "25a09682",
   "metadata": {},
   "source": [
    "### Dataset Implementation Details\n",
    "\n",
    "The `BinaryPeatlandDataset` class extends PyTorch's Dataset class to handle our binary segmentation data:\n",
    "\n",
    "1. **Data Organization**:\n",
    "   - Images are stored in one directory\n",
    "   - Corresponding masks in another directory\n",
    "   - Filenames match between images and masks\n",
    "\n",
    "2. **Image Processing**:\n",
    "   - RGB images are loaded in full color\n",
    "   - Masks are loaded as single-channel binary images\n",
    "   - Optional data augmentation is applied to both\n",
    "\n",
    "3. **Return Format**:\n",
    "   - Images: Normalized tensors in RGB format\n",
    "   - Masks: Long tensors with binary values (0 for background, 1 for path)"
   ]
  },
  {
   "cell_type": "code",
   "execution_count": null,
   "id": "ede28e76",
   "metadata": {},
   "outputs": [],
   "source": [
    "class BinaryPeatlandDataset(Dataset):\n",
    "    \"\"\"Custom PyTorch Dataset for binary path segmentation in peatland images.\n",
    "    \n",
    "    This dataset handles pairs of images and their corresponding binary segmentation masks,\n",
    "    where paths are labeled as 1 and all other terrain as 0.\n",
    "    \n",
    "    Args:\n",
    "        images_dir (str or Path): Directory containing the input images\n",
    "        masks_dir (str or Path): Directory containing the binary segmentation masks\n",
    "        transform (callable, optional): Optional transform to be applied to both image and mask\n",
    "    \"\"\"\n",
    "    def __init__(self, images_dir, masks_dir, transform=None):\n",
    "        self.images_dir = Path(images_dir)\n",
    "        self.masks_dir = Path(masks_dir)\n",
    "        self.transform = transform\n",
    "        self.image_filenames = sorted(os.listdir(self.images_dir))\n",
    "\n",
    "    def __len__(self):\n",
    "        \"\"\"Returns the total number of image-mask pairs in the dataset.\"\"\"\n",
    "        return len(self.image_filenames)\n",
    "\n",
    "    def __getitem__(self, idx):\n",
    "        \"\"\"Retrieves an image-mask pair by index.\n",
    "        \n",
    "        Args:\n",
    "            idx (int): Index of the image-mask pair to retrieve\n",
    "            \n",
    "        Returns:\n",
    "            tuple: (image, mask) where image is a transformed RGB tensor and\n",
    "                  mask is a binary tensor with 0s and 1s\n",
    "        \"\"\"\n",
    "        img_name = self.image_filenames[idx]\n",
    "        img_path = self.images_dir / img_name\n",
    "        mask_path = self.masks_dir / img_name\n",
    "        \n",
    "        # Load image in RGB format for consistent processing\n",
    "        image = np.array(Image.open(img_path).convert(\"RGB\"))\n",
    "        # Load mask as single channel binary image\n",
    "        mask = np.array(Image.open(mask_path)) \n",
    "        \n",
    "        # Apply transformations if specified\n",
    "        if self.transform:\n",
    "            augmented = self.transform(image=image, mask=mask)\n",
    "            image = augmented['image']\n",
    "            mask = augmented['mask']\n",
    "            \n",
    "        # Convert mask to long tensor type for CrossEntropyLoss\n",
    "        mask = mask.long()\n",
    "        return image, mask"
   ]
  },
  {
   "cell_type": "markdown",
   "id": "35039bda",
   "metadata": {},
   "source": [
    "### Data Transformations\n",
    "\n",
    "The training pipeline uses Albumentations for efficient data augmentation:\n",
    "\n",
    "1. **Image Dimensions**:\n",
    "   - Height: 480 pixels\n",
    "   - Width: 640 pixels\n",
    "   - Aspect ratio maintained for consistent processing\n",
    "\n",
    "2. **Normalization**:\n",
    "   - Using ImageNet mean and standard deviation\n",
    "   - Ensures model compatibility with pretrained weights\n",
    "   - Scales pixel values for better training stability\n",
    "\n",
    "3. **Augmentation Strategy**:\n",
    "   - Training: Includes horizontal flips for diversity\n",
    "   - Validation: Only resizing and normalization\n",
    "   - All transformations maintain mask alignment"
   ]
  },
  {
   "cell_type": "code",
   "execution_count": null,
   "id": "eec82a7b",
   "metadata": {},
   "outputs": [],
   "source": [
    "# Define image dimensions for consistent processing\n",
    "IMG_HEIGHT = 480\n",
    "IMG_WIDTH = 640\n",
    "\n",
    "# ImageNet normalization parameters\n",
    "IMAGENET_MEAN = [0.485, 0.456, 0.406]\n",
    "IMAGENET_STD = [0.229, 0.224, 0.225]\n",
    "\n",
    "# Training transformations including data augmentation\n",
    "train_transform = A.Compose([\n",
    "    A.Resize(height=IMG_HEIGHT, width=IMG_WIDTH),\n",
    "    A.HorizontalFlip(p=0.5),  # 50% chance of horizontal flip\n",
    "    A.Normalize(mean=IMAGENET_MEAN, std=IMAGENET_STD, max_pixel_value=255.0),\n",
    "    ToTensorV2(),\n",
    "])\n",
    "\n",
    "# Validation transformations (no augmentation)\n",
    "val_transform = A.Compose([\n",
    "    A.Resize(height=IMG_HEIGHT, width=IMG_WIDTH),\n",
    "    A.Normalize(mean=IMAGENET_MEAN, std=IMAGENET_STD, max_pixel_value=255.0),\n",
    "    ToTensorV2(),\n",
    "])"
   ]
  },
  {
   "cell_type": "markdown",
   "id": "24a843f4",
   "metadata": {},
   "source": [
    "## 3. Configuration and Data Loading"
   ]
  },
  {
   "cell_type": "markdown",
   "id": "ddc9e68e",
   "metadata": {},
   "source": [
    "The training configuration includes several key parameters and setup steps:\n",
    "\n",
    "1. **Hyperparameters**:\n",
    "   - Learning rate: 1e-4\n",
    "   - Batch size: 4\n",
    "   - Number of epochs: 20\n",
    "   - Early stopping patience: 4\n",
    "\n",
    "2. **Hardware Configuration**:\n",
    "   - Automatic device selection (CUDA/MPS/CPU)\n",
    "   - Optimized for available hardware\n",
    "\n",
    "3. **Data Organization**:\n",
    "   - Structured directory setup for train/val splits\n",
    "   - Separate image and mask directories\n",
    "   - Consistent naming conventions\n",
    "\n",
    "4. **Output Management**:\n",
    "   - Timestamped run names\n",
    "   - Organized metrics storage\n",
    "   - Automatic directory creation"
   ]
  },
  {
   "cell_type": "code",
   "execution_count": null,
   "id": "47cfc31a",
   "metadata": {},
   "outputs": [
    {
     "name": "stdout",
     "output_type": "stream",
     "text": [
      "Using device: mps\n",
      "Metrics for this run will be saved in: metrics/binary_unet_2025-08-03_22-53-32\n"
     ]
    }
   ],
   "source": [
    "# Training hyperparameters\n",
    "LEARNING_RATE = 1e-4\n",
    "BATCH_SIZE = 4\n",
    "NUM_EPOCHS = 20 \n",
    "\n",
    "# Device configuration\n",
    "if torch.cuda.is_available(): DEVICE = \"cuda\"\n",
    "elif torch.backends.mps.is_available(): DEVICE = \"mps\"\n",
    "else: DEVICE = \"cpu\"\n",
    "\n",
    "# Set up run identification and metrics storage\n",
    "run_name = f\"binary_unet_{datetime.now().strftime('%Y-%m-%d_%H-%M-%S')}\"\n",
    "metrics_dir = Path(\"metrics\") / run_name\n",
    "metrics_dir.mkdir(parents=True, exist_ok=True)\n",
    "\n",
    "print(f\"Using device: {DEVICE}\")\n",
    "print(f\"Metrics for this run will be saved in: {metrics_dir}\")\n",
    "\n",
    "# Data directory configuration\n",
    "BASE_PROCESSED_DIR = Path(\"../data/processed/binary_segmentation\")\n",
    "TRAIN_IMG_DIR = BASE_PROCESSED_DIR / \"train\" / \"images\"\n",
    "TRAIN_MASK_DIR = BASE_PROCESSED_DIR / \"train\" / \"masks\"\n",
    "VAL_IMG_DIR = BASE_PROCESSED_DIR / \"val\" / \"images\"\n",
    "VAL_MASK_DIR = BASE_PROCESSED_DIR / \"val\" / \"masks\"\n",
    "\n",
    "# Initialize datasets with appropriate transforms\n",
    "train_dataset = BinaryPeatlandDataset(TRAIN_IMG_DIR, TRAIN_MASK_DIR, train_transform)\n",
    "val_dataset = BinaryPeatlandDataset(VAL_IMG_DIR, VAL_MASK_DIR, val_transform)\n",
    "\n",
    "# Create data loaders for batched processing\n",
    "train_loader = DataLoader(train_dataset, batch_size=BATCH_SIZE, shuffle=True, num_workers=0)\n",
    "val_loader = DataLoader(val_dataset, batch_size=BATCH_SIZE, shuffle=False, num_workers=0)"
   ]
  },
  {
   "cell_type": "markdown",
   "id": "205ba4a5",
   "metadata": {},
   "source": [
    "## 4. Training Loop"
   ]
  },
  {
   "cell_type": "markdown",
   "id": "66c73667",
   "metadata": {},
   "source": [
    "The training loop implements a complete training pipeline with:\n",
    "\n",
    "1. **Model Architecture**:\n",
    "   - U-Net with ResNet34 backbone\n",
    "   - Pretrained ImageNet weights\n",
    "   - Binary classification (2 classes)\n",
    "\n",
    "2. **Optimization Strategy**:\n",
    "   - AdamW optimizer with weight decay\n",
    "   - Learning rate scheduling\n",
    "   - CrossEntropy loss function\n",
    "\n",
    "3. **Training Features**:\n",
    "   - Progress tracking with tqdm\n",
    "   - Early stopping mechanism\n",
    "   - Best model checkpointing\n",
    "\n",
    "4. **Monitoring**:\n",
    "   - Training loss tracking\n",
    "   - Validation loss monitoring\n",
    "   - Pixel-wise accuracy calculation\n",
    "   - Comprehensive metrics logging"
   ]
  },
  {
   "cell_type": "code",
   "execution_count": null,
   "id": "3f47c391",
   "metadata": {},
   "outputs": [
    {
     "name": "stdout",
     "output_type": "stream",
     "text": [
      "\n",
      "--- Epoch 1/20 ---\n"
     ]
    },
    {
     "name": "stderr",
     "output_type": "stream",
     "text": [
      "Training: 100%|██████████| 998/998 [08:52<00:00,  1.87it/s]\n",
      "Validating: 100%|██████████| 51/51 [00:17<00:00,  2.86it/s]\n"
     ]
    },
    {
     "name": "stdout",
     "output_type": "stream",
     "text": [
      "Average Training Loss: 0.3172\n",
      "Average Validation Loss: 0.1828\n",
      "Validation Pixel Accuracy: 92.30%\n",
      "Validation loss improved. Saving best model to metrics/binary_unet_2025-08-03_22-53-32/best_binary_model.pth\n",
      "\n",
      "--- Epoch 2/20 ---\n"
     ]
    },
    {
     "name": "stderr",
     "output_type": "stream",
     "text": [
      "Training: 100%|██████████| 998/998 [08:33<00:00,  1.94it/s]\n",
      "Validating: 100%|██████████| 51/51 [00:16<00:00,  3.04it/s]\n"
     ]
    },
    {
     "name": "stdout",
     "output_type": "stream",
     "text": [
      "Average Training Loss: 0.2266\n",
      "Average Validation Loss: 0.1539\n",
      "Validation Pixel Accuracy: 93.91%\n",
      "Validation loss improved. Saving best model to metrics/binary_unet_2025-08-03_22-53-32/best_binary_model.pth\n",
      "\n",
      "--- Epoch 3/20 ---\n"
     ]
    },
    {
     "name": "stderr",
     "output_type": "stream",
     "text": [
      "Training: 100%|██████████| 998/998 [08:36<00:00,  1.93it/s]\n",
      "Validating: 100%|██████████| 51/51 [00:16<00:00,  3.10it/s]\n"
     ]
    },
    {
     "name": "stdout",
     "output_type": "stream",
     "text": [
      "Average Training Loss: 0.1877\n",
      "Average Validation Loss: 0.1485\n",
      "Validation Pixel Accuracy: 94.45%\n",
      "Validation loss improved. Saving best model to metrics/binary_unet_2025-08-03_22-53-32/best_binary_model.pth\n",
      "\n",
      "--- Epoch 4/20 ---\n"
     ]
    },
    {
     "name": "stderr",
     "output_type": "stream",
     "text": [
      "Training: 100%|██████████| 998/998 [08:36<00:00,  1.93it/s]\n",
      "Validating: 100%|██████████| 51/51 [00:16<00:00,  3.11it/s]\n"
     ]
    },
    {
     "name": "stdout",
     "output_type": "stream",
     "text": [
      "Average Training Loss: 0.1624\n",
      "Average Validation Loss: 0.1206\n",
      "Validation Pixel Accuracy: 95.27%\n",
      "Validation loss improved. Saving best model to metrics/binary_unet_2025-08-03_22-53-32/best_binary_model.pth\n",
      "\n",
      "--- Epoch 5/20 ---\n"
     ]
    },
    {
     "name": "stderr",
     "output_type": "stream",
     "text": [
      "Training: 100%|██████████| 998/998 [08:36<00:00,  1.93it/s]\n",
      "Validating: 100%|██████████| 51/51 [00:16<00:00,  3.06it/s]\n"
     ]
    },
    {
     "name": "stdout",
     "output_type": "stream",
     "text": [
      "Average Training Loss: 0.1460\n",
      "Average Validation Loss: 0.1345\n",
      "Validation Pixel Accuracy: 94.97%\n",
      "Validation loss did not improve for 1 epoch(s).\n",
      "\n",
      "--- Epoch 6/20 ---\n"
     ]
    },
    {
     "name": "stderr",
     "output_type": "stream",
     "text": [
      "Training: 100%|██████████| 998/998 [08:36<00:00,  1.93it/s]\n",
      "Validating: 100%|██████████| 51/51 [00:16<00:00,  3.06it/s]\n"
     ]
    },
    {
     "name": "stdout",
     "output_type": "stream",
     "text": [
      "Average Training Loss: 0.1346\n",
      "Average Validation Loss: 0.1360\n",
      "Validation Pixel Accuracy: 94.50%\n",
      "Validation loss did not improve for 2 epoch(s).\n",
      "\n",
      "--- Epoch 7/20 ---\n"
     ]
    },
    {
     "name": "stderr",
     "output_type": "stream",
     "text": [
      "Training: 100%|██████████| 998/998 [08:35<00:00,  1.94it/s]\n",
      "Validating: 100%|██████████| 51/51 [00:16<00:00,  3.02it/s]\n"
     ]
    },
    {
     "name": "stdout",
     "output_type": "stream",
     "text": [
      "Average Training Loss: 0.1237\n",
      "Average Validation Loss: 0.1399\n",
      "Validation Pixel Accuracy: 94.91%\n",
      "Validation loss did not improve for 3 epoch(s).\n",
      "\n",
      "--- Epoch 8/20 ---\n"
     ]
    },
    {
     "name": "stderr",
     "output_type": "stream",
     "text": [
      "Training: 100%|██████████| 998/998 [08:29<00:00,  1.96it/s]\n",
      "Validating: 100%|██████████| 51/51 [00:16<00:00,  3.05it/s]\n"
     ]
    },
    {
     "name": "stdout",
     "output_type": "stream",
     "text": [
      "Average Training Loss: 0.0944\n",
      "Average Validation Loss: 0.1060\n",
      "Validation Pixel Accuracy: 95.68%\n",
      "Validation loss improved. Saving best model to metrics/binary_unet_2025-08-03_22-53-32/best_binary_model.pth\n",
      "\n",
      "--- Epoch 9/20 ---\n"
     ]
    },
    {
     "name": "stderr",
     "output_type": "stream",
     "text": [
      "Training: 100%|██████████| 998/998 [08:32<00:00,  1.95it/s]\n",
      "Validating: 100%|██████████| 51/51 [00:16<00:00,  3.08it/s]\n"
     ]
    },
    {
     "name": "stdout",
     "output_type": "stream",
     "text": [
      "Average Training Loss: 0.0854\n",
      "Average Validation Loss: 0.1051\n",
      "Validation Pixel Accuracy: 95.72%\n",
      "Validation loss improved. Saving best model to metrics/binary_unet_2025-08-03_22-53-32/best_binary_model.pth\n",
      "\n",
      "--- Epoch 10/20 ---\n"
     ]
    },
    {
     "name": "stderr",
     "output_type": "stream",
     "text": [
      "Training: 100%|██████████| 998/998 [08:32<00:00,  1.95it/s]\n",
      "Validating: 100%|██████████| 51/51 [00:16<00:00,  3.07it/s]\n"
     ]
    },
    {
     "name": "stdout",
     "output_type": "stream",
     "text": [
      "Average Training Loss: 0.0811\n",
      "Average Validation Loss: 0.1101\n",
      "Validation Pixel Accuracy: 95.51%\n",
      "Validation loss did not improve for 1 epoch(s).\n",
      "\n",
      "--- Epoch 11/20 ---\n"
     ]
    },
    {
     "name": "stderr",
     "output_type": "stream",
     "text": [
      "Training: 100%|██████████| 998/998 [08:33<00:00,  1.95it/s]\n",
      "Validating: 100%|██████████| 51/51 [00:16<00:00,  3.09it/s]\n"
     ]
    },
    {
     "name": "stdout",
     "output_type": "stream",
     "text": [
      "Average Training Loss: 0.0777\n",
      "Average Validation Loss: 0.1060\n",
      "Validation Pixel Accuracy: 95.60%\n",
      "Validation loss did not improve for 2 epoch(s).\n",
      "\n",
      "--- Epoch 12/20 ---\n"
     ]
    },
    {
     "name": "stderr",
     "output_type": "stream",
     "text": [
      "Training: 100%|██████████| 998/998 [08:33<00:00,  1.95it/s]\n",
      "Validating: 100%|██████████| 51/51 [00:16<00:00,  3.18it/s]\n"
     ]
    },
    {
     "name": "stdout",
     "output_type": "stream",
     "text": [
      "Average Training Loss: 0.0730\n",
      "Average Validation Loss: 0.1111\n",
      "Validation Pixel Accuracy: 95.64%\n",
      "Validation loss did not improve for 3 epoch(s).\n",
      "\n",
      "--- Epoch 13/20 ---\n"
     ]
    },
    {
     "name": "stderr",
     "output_type": "stream",
     "text": [
      "Training: 100%|██████████| 998/998 [08:33<00:00,  1.94it/s]\n",
      "Validating: 100%|██████████| 51/51 [00:16<00:00,  3.07it/s]"
     ]
    },
    {
     "name": "stdout",
     "output_type": "stream",
     "text": [
      "Average Training Loss: 0.0691\n",
      "Average Validation Loss: 0.1092\n",
      "Validation Pixel Accuracy: 95.58%\n",
      "Validation loss did not improve for 4 epoch(s).\n",
      "Early stopping triggered after 13 epochs.\n",
      "\n",
      "Training finished.\n",
      "Training log saved to metrics/binary_unet_2025-08-03_22-53-32/training_log.csv\n"
     ]
    },
    {
     "name": "stderr",
     "output_type": "stream",
     "text": [
      "\n"
     ]
    }
   ],
   "source": [
    "# Initialize model with pretrained encoder\n",
    "model = smp.Unet(\"resnet34\", encoder_weights=\"imagenet\", in_channels=3, classes=2).to(DEVICE)\n",
    "\n",
    "# Define loss function and optimizer\n",
    "criterion = nn.CrossEntropyLoss()\n",
    "optimizer = optim.AdamW(model.parameters(), lr=LEARNING_RATE, weight_decay=1e-5)\n",
    "scheduler = optim.lr_scheduler.ReduceLROnPlateau(optimizer, 'min', patience=2, factor=0.1)\n",
    "\n",
    "# Initialize training tracking variables\n",
    "training_log = []\n",
    "best_val_loss = float('inf')\n",
    "epochs_no_improve = 0\n",
    "patience = 4  # Early stopping patience\n",
    "\n",
    "# Training loop\n",
    "for epoch in range(NUM_EPOCHS):\n",
    "    print(f\"\\n--- Epoch {epoch+1}/{NUM_EPOCHS} ---\")\n",
    "    \n",
    "    # Training phase\n",
    "    model.train()\n",
    "    train_loss = 0.0\n",
    "    for images, masks in tqdm(train_loader, desc=\"Training\"):\n",
    "        images, masks = images.to(DEVICE), masks.to(DEVICE)\n",
    "        \n",
    "        # Forward pass and loss calculation\n",
    "        outputs = model(images)\n",
    "        loss = criterion(outputs, masks)\n",
    "        \n",
    "        # Backward pass and optimization\n",
    "        optimizer.zero_grad()\n",
    "        loss.backward()\n",
    "        optimizer.step()\n",
    "        \n",
    "        train_loss += loss.item()\n",
    "        \n",
    "    # Validation phase\n",
    "    model.eval()\n",
    "    val_loss, val_correct_pixels, val_total_pixels = 0.0, 0, 0\n",
    "    with torch.no_grad():\n",
    "        for images, masks in tqdm(val_loader, desc=\"Validating\"):\n",
    "            images, masks = images.to(DEVICE), masks.to(DEVICE)\n",
    "            \n",
    "            # Forward pass\n",
    "            outputs = model(images)\n",
    "            loss = criterion(outputs, masks)\n",
    "            \n",
    "            # Calculate metrics\n",
    "            val_loss += loss.item()\n",
    "            preds = torch.argmax(outputs, dim=1)\n",
    "            val_correct_pixels += (preds == masks).sum().item()\n",
    "            val_total_pixels += torch.numel(masks)\n",
    "            \n",
    "    # Calculate epoch statistics\n",
    "    avg_train_loss = train_loss / len(train_loader)\n",
    "    avg_val_loss = val_loss / len(val_loader)\n",
    "    val_accuracy = (val_correct_pixels / val_total_pixels) * 100\n",
    "    \n",
    "    # Print epoch results\n",
    "    print(f\"Average Training Loss: {avg_train_loss:.4f}\")\n",
    "    print(f\"Average Validation Loss: {avg_val_loss:.4f}\")\n",
    "    print(f\"Validation Pixel Accuracy: {val_accuracy:.2f}%\")\n",
    "    \n",
    "    # Learning rate scheduling\n",
    "    scheduler.step(avg_val_loss)\n",
    "    \n",
    "    # Log metrics\n",
    "    training_log.append({\n",
    "        'epoch': epoch + 1,\n",
    "        'train_loss': avg_train_loss,\n",
    "        'val_loss': avg_val_loss,\n",
    "        'val_accuracy': val_accuracy\n",
    "    })\n",
    "\n",
    "    # Model checkpointing and early stopping\n",
    "    if avg_val_loss < best_val_loss:\n",
    "        best_val_loss = avg_val_loss\n",
    "        epochs_no_improve = 0\n",
    "        torch.save(model.state_dict(), metrics_dir / \"best_binary_model.pth\")\n",
    "        print(f\"Validation loss improved. Saving best model to {metrics_dir / 'best_binary_model.pth'}\")\n",
    "    else:\n",
    "        epochs_no_improve += 1\n",
    "        print(f\"Validation loss did not improve for {epochs_no_improve} epoch(s).\")\n",
    "\n",
    "    if epochs_no_improve >= patience:\n",
    "        print(f\"Early stopping triggered after {epoch + 1} epochs.\")\n",
    "        break\n",
    "\n",
    "# Save final training metrics\n",
    "print(\"\\nTraining finished.\")\n",
    "log_df = pd.DataFrame(training_log)\n",
    "log_df.to_csv(metrics_dir / \"training_log.csv\", index=False)\n",
    "print(f\"Training log saved to {metrics_dir / 'training_log.csv'}\")"
   ]
  }
 ],
 "metadata": {
  "kernelspec": {
   "display_name": "peatland_navigation",
   "language": "python",
   "name": "python3"
  },
  "language_info": {
   "codemirror_mode": {
    "name": "ipython",
    "version": 3
   },
   "file_extension": ".py",
   "mimetype": "text/x-python",
   "name": "python",
   "nbconvert_exporter": "python",
   "pygments_lexer": "ipython3",
   "version": "3.11.8"
  }
 },
 "nbformat": 4,
 "nbformat_minor": 5
}
